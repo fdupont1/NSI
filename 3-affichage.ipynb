{
 "cells": [
  {
   "cell_type": "markdown",
   "metadata": {},
   "source": [
    "# Affichage et clavier"
   ]
  },
  {
   "cell_type": "markdown",
   "metadata": {},
   "source": [
    "## La fonction print()\n",
    "Cette fonction permet l'affichage de chaîne de caractères."
   ]
  },
  {
   "cell_type": "code",
   "execution_count": 15,
   "metadata": {},
   "outputs": [
    {
     "name": "stdout",
     "output_type": "stream",
     "text": [
      "Un message.\n"
     ]
    }
   ],
   "source": [
    "print(\"Un message.\")"
   ]
  },
  {
   "cell_type": "markdown",
   "metadata": {},
   "source": [
    "Elle permet l'affichage de la valeur d'un variable :"
   ]
  },
  {
   "cell_type": "code",
   "execution_count": 16,
   "metadata": {},
   "outputs": [
    {
     "name": "stdout",
     "output_type": "stream",
     "text": [
      "ma variable : 33.333333333333336 en cm.\n"
     ]
    }
   ],
   "source": [
    "ma_variable = 100/3\n",
    "print('ma variable :', ma_variable, 'en cm.')"
   ]
  },
  {
   "cell_type": "markdown",
   "metadata": {},
   "source": [
    "Pour afficher une variable sans espaces autour, on utilise la concaténation de chaîne de caractères symbolisée par le signe **+**.  \n",
    "Pour pouvoir additionner la valeur de la variable à des chaînes de caractères, il faut d'abord 'caster' cette valeur en str."
   ]
  },
  {
   "cell_type": "code",
   "execution_count": 18,
   "metadata": {},
   "outputs": [
    {
     "name": "stdout",
     "output_type": "stream",
     "text": [
      "La fonction f(5) vaut 79\n"
     ]
    }
   ],
   "source": [
    "x = 5\n",
    "y = 3*x**2+4\n",
    "print('La fonction f('+str(x)+') vaut',y)"
   ]
  },
  {
   "cell_type": "markdown",
   "metadata": {},
   "source": [
    "On peut insérer un retour à la ligne représenter par '**\\n**' dans le texte."
   ]
  },
  {
   "cell_type": "code",
   "execution_count": 17,
   "metadata": {},
   "outputs": [
    {
     "name": "stdout",
     "output_type": "stream",
     "text": [
      "Un message\n",
      "sur 2 lignes\n"
     ]
    }
   ],
   "source": [
    "print(\"Un message\\nsur 2 lignes\")"
   ]
  },
  {
   "cell_type": "markdown",
   "metadata": {},
   "source": [
    "On peut empêcher le retour à la ligne en spécifiant le caractère de fin au travers de l'option *end*.  \n",
    "Dans l'exemple suivant on insère un espace en fin de chaîne pour la première fonction print."
   ]
  },
  {
   "cell_type": "code",
   "execution_count": 19,
   "metadata": {},
   "outputs": [
    {
     "name": "stdout",
     "output_type": "stream",
     "text": [
      "Un message\n"
     ]
    }
   ],
   "source": [
    "print('Un', end=\" \")\n",
    "print('message')"
   ]
  },
  {
   "cell_type": "markdown",
   "metadata": {},
   "source": [
    "## La fonction input()\n"
   ]
  },
  {
   "cell_type": "markdown",
   "metadata": {},
   "source": [
    "Cette fonction permet de recevoir les entrées du clavier et les transmettre sous forme de chaîne de caractères."
   ]
  },
  {
   "cell_type": "code",
   "execution_count": 9,
   "metadata": {},
   "outputs": [
    {
     "name": "stdout",
     "output_type": "stream",
     "text": [
      "123\n"
     ]
    },
    {
     "data": {
      "text/plain": [
       "'123'"
      ]
     },
     "execution_count": 9,
     "metadata": {},
     "output_type": "execute_result"
    }
   ],
   "source": [
    "input()"
   ]
  },
  {
   "cell_type": "markdown",
   "metadata": {},
   "source": [
    "On peut afficher du texte pour préciser la demande à l'utilisateur :"
   ]
  },
  {
   "cell_type": "code",
   "execution_count": 2,
   "metadata": {},
   "outputs": [
    {
     "name": "stdout",
     "output_type": "stream",
     "text": [
      "Entrez votre prénom :François\n"
     ]
    },
    {
     "data": {
      "text/plain": [
       "'François'"
      ]
     },
     "execution_count": 2,
     "metadata": {},
     "output_type": "execute_result"
    }
   ],
   "source": [
    "input('Entrez votre prénom : ')"
   ]
  },
  {
   "cell_type": "markdown",
   "metadata": {},
   "source": [
    "On peut affecter une variable avec le résultat de la fonction."
   ]
  },
  {
   "cell_type": "code",
   "execution_count": 12,
   "metadata": {},
   "outputs": [
    {
     "name": "stdout",
     "output_type": "stream",
     "text": [
      "6546\n",
      "6546  est de type :  <class 'str'>\n"
     ]
    }
   ],
   "source": [
    "entree_clavier = input()\n",
    "print(entree_clavier,' est de type : ', type(entree_clavier))"
   ]
  },
  {
   "cell_type": "markdown",
   "metadata": {},
   "source": [
    "Il est souvent utile de caster la sortie de input() directement dans le bon type de variable."
   ]
  },
  {
   "cell_type": "code",
   "execution_count": 11,
   "metadata": {},
   "outputs": [
    {
     "name": "stdout",
     "output_type": "stream",
     "text": [
      "Longueur en cm :15\n",
      "Valeur : 15 type : <class 'int'>\n"
     ]
    }
   ],
   "source": [
    "longueur = int(input('Longueur en cm :'))\n",
    "print('Valeur :', longueur, ',type :', type(longueur))"
   ]
  },
  {
   "cell_type": "markdown",
   "metadata": {},
   "source": [
    "**Remarque :**  \n",
    "La fonction print() peut prendre plusieurs entrées séparées par des virgules : print(\"chaîne\",\"de\",\"caractères\").\n",
    "Par contre la fonction input() ne peut afficher qu'une seul entrée.  \n",
    "Il reste possible de mélanger du texte et des valeurs de variable en \"additionnant\" des chaîne de caractères.\n",
    "Et bien sur, il faut caster les variables dans le type chaîne de caractères."
   ]
  },
  {
   "cell_type": "code",
   "execution_count": 1,
   "metadata": {},
   "outputs": [
    {
     "name": "stdout",
     "output_type": "stream",
     "text": [
      "coordonnée x: 5, y:-3 : 6546\n"
     ]
    }
   ],
   "source": [
    "x, y = 5, -3\n",
    "point = input(\"coordonnée x: \"+str(x)+\", y:\"+str(y)+\" : \")"
   ]
  },
  {
   "cell_type": "code",
   "execution_count": null,
   "metadata": {},
   "outputs": [],
   "source": []
  }
 ],
 "metadata": {
  "kernelspec": {
   "display_name": "Python 3",
   "language": "python",
   "name": "python3"
  },
  "language_info": {
   "codemirror_mode": {
    "name": "ipython",
    "version": 3
   },
   "file_extension": ".py",
   "mimetype": "text/x-python",
   "name": "python",
   "nbconvert_exporter": "python",
   "pygments_lexer": "ipython3",
   "version": "3.7.3"
  },
  "latex_envs": {
   "LaTeX_envs_menu_present": true,
   "autoclose": false,
   "autocomplete": true,
   "bibliofile": "biblio.bib",
   "cite_by": "apalike",
   "current_citInitial": 1,
   "eqLabelWithNumbers": true,
   "eqNumInitial": 1,
   "hotkeys": {
    "equation": "Ctrl-E",
    "itemize": "Ctrl-I"
   },
   "labels_anchors": false,
   "latex_user_defs": false,
   "report_style_numbering": false,
   "user_envs_cfg": false
  }
 },
 "nbformat": 4,
 "nbformat_minor": 2
}
