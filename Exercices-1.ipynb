{
 "cells": [
  {
   "cell_type": "markdown",
   "metadata": {},
   "source": [
    "# Exercices"
   ]
  },
  {
   "cell_type": "markdown",
   "metadata": {},
   "source": [
    "Quel opérateur peut-on utiliser pour déterminer si un nombre est pair ou impair, en utilisant la convention : 0 donne pair et 1 donne impair.  \n",
    "Exemple :\n",
    "- 21 -> 1\n",
    "- 12 -> 0"
   ]
  },
  {
   "cell_type": "markdown",
   "metadata": {},
   "source": [
    "<h3 style=\"background-color:silver;\"><span style=\"text-decoration: underline;\">Division Euclidienne</span></h3>"
   ]
  },
  {
   "cell_type": "markdown",
   "metadata": {},
   "source": [
    "Ecrire un code qui permet d'afficher la division euclidienne de x par y, avec x et y sont des nombres entiers.\n",
    "Exemple :\n"
   ]
  },
  {
   "cell_type": "code",
   "execution_count": 10,
   "metadata": {
    "scrolled": true
   },
   "outputs": [
    {
     "name": "stdout",
     "output_type": "stream",
     "text": [
      "y : 3846\n",
      "x : 45\n",
      "y = 85 x 45 + 21\n"
     ]
    }
   ],
   "source": [
    "y = int(input(\"y : \"))\n",
    "x = int(input(\"x : \"))\n",
    "print(y, \"=\", y//x, \"x\", x, \"+\", y%x)"
   ]
  },
  {
   "cell_type": "markdown",
   "metadata": {},
   "source": [
    "## Boucles"
   ]
  },
  {
   "cell_type": "markdown",
   "metadata": {},
   "source": [
    "<h3><span style=\"background-color:silver;font-family: Courrier;text-decoration: underline;\">Calcul moyenne.</span></h3>"
   ]
  },
  {
   "cell_type": "markdown",
   "metadata": {},
   "source": [
    "Objectif : Créer un programme qui permet le calcul de la moyenne d'un ensemble de nombre entiers.  \n",
    "Entrée : le nombre d'éléments de l'ensemble  \n",
    "Sortie : la moyenne de cette ensemble  "
   ]
  },
  {
   "cell_type": "markdown",
   "metadata": {},
   "source": [
    "Exemple :  \n",
    "- nombre d'éléments :3  \n",
    " élément 1 : 10  \n",
    " élément 2 : 14  \n",
    " élément 3 : 11  \n",
    "- moyenne : 11.666666666666666"
   ]
  },
  {
   "cell_type": "code",
   "execution_count": 44,
   "metadata": {},
   "outputs": [
    {
     "name": "stdout",
     "output_type": "stream",
     "text": [
      "nombre d'éléments : 2\n",
      "élément 1 : 10\n",
      "élément 2 : 2\n",
      "moyenne : 6.0\n"
     ]
    }
   ],
   "source": [
    "nombre_element = int(input(\"nombre d'éléments : \"))\n",
    "total = 0\n",
    "for i in range(nombre_element):\n",
    "    total += int(input(\"élément \"+str(i+1)+\" : \"))\n",
    "print(\"moyenne :\", total/nombre_element)"
   ]
  },
  {
   "cell_type": "markdown",
   "metadata": {},
   "source": [
    "<h3 style=\"background-color:silver;\"><span style=\"text-decoration: underline;\">Un carré</span></h3>"
   ]
  },
  {
   "cell_type": "markdown",
   "metadata": {},
   "source": [
    "Dessiner un carré de dimension donner"
   ]
  },
  {
   "cell_type": "code",
   "execution_count": 49,
   "metadata": {},
   "outputs": [
    {
     "name": "stdout",
     "output_type": "stream",
     "text": [
      "Longueur du côté : 15\n",
      "XXXXXXXXXXXXXXX\n",
      "X°°°°°°°°°°°°°X\n",
      "X°°°°°°°°°°°°°X\n",
      "X°°°°°°°°°°°°°X\n",
      "X°°°°°°°°°°°°°X\n",
      "X°°°°°°°°°°°°°X\n",
      "X°°°°°°°°°°°°°X\n",
      "X°°°°°°°°°°°°°X\n",
      "X°°°°°°°°°°°°°X\n",
      "X°°°°°°°°°°°°°X\n",
      "X°°°°°°°°°°°°°X\n",
      "X°°°°°°°°°°°°°X\n",
      "X°°°°°°°°°°°°°X\n",
      "X°°°°°°°°°°°°°X\n",
      "XXXXXXXXXXXXXXX"
     ]
    }
   ],
   "source": [
    "cote = int(input(\"Longueur du côté : \"))\n",
    "for l in range(cote):\n",
    "    print(\"X\",end=\"\")\n",
    "print()\n",
    "for l in range(cote-2):\n",
    "    print(\"X\", end=\"\")\n",
    "    for i in range(cote-2):\n",
    "        print(\"°\", end=\"\")\n",
    "    print(\"X\", end=\"\")\n",
    "    print()\n",
    "for l in range(cote):\n",
    "    print(\"X\",end=\"\")\n",
    "    "
   ]
  },
  {
   "cell_type": "markdown",
   "metadata": {},
   "source": [
    "<h3 style=\"background-color:silver;\"><span style=\"text-decoration: underline;\">La montagne</span></h3>"
   ]
  },
  {
   "cell_type": "code",
   "execution_count": 41,
   "metadata": {},
   "outputs": [
    {
     "name": "stdout",
     "output_type": "stream",
     "text": [
      "hauteur : 10\n",
      "          XX\n",
      "         X°°X\n",
      "        X°°°°X\n",
      "       X°°°°°°X\n",
      "      X°°°°°°°°X\n",
      "     X°°°°°°°°°°X\n",
      "    X°°°°°°°°°°°°X\n",
      "   X°°°°°°°°°°°°°°X\n",
      "  X°°°°°°°°°°°°°°°°X\n",
      " X°°°°°°°°°°°°°°°°°°X\n"
     ]
    }
   ],
   "source": [
    "hauteur = int(input(\"hauteur : \"))\n",
    "for l in range(hauteur):\n",
    "    for sd in range(hauteur-l):\n",
    "        print(\" \", end=\"\")\n",
    "    print(\"X\", end=\"\")\n",
    "    for sm in range(2*l):\n",
    "        print(\"°\", end=\"\")\n",
    "    print(\"X\", end=\"\")\n",
    "    print()"
   ]
  },
  {
   "cell_type": "code",
   "execution_count": 45,
   "metadata": {
    "scrolled": false
   },
   "outputs": [
    {
     "name": "stdout",
     "output_type": "stream",
     "text": [
      "hauteur : 5\n",
      "X--------X\n",
      " X------X\n",
      "  X----X\n",
      "   X--X\n",
      "    XX\n"
     ]
    }
   ],
   "source": [
    "hauteur = int(input(\"hauteur : \"))\n",
    "for l in range(hauteur):\n",
    "    for sd in range(l):\n",
    "        print(\" \", end=\"\")\n",
    "    print(\"X\", end=\"\")\n",
    "    for sm in range(2*(hauteur-l-1)):\n",
    "        print(\"-\", end=\"\")\n",
    "    print(\"X\", end=\"\")\n",
    "    print()"
   ]
  },
  {
   "cell_type": "markdown",
   "metadata": {},
   "source": [
    "<h3 style=\"background-color:silver;\"><span style=\"text-decoration: underline;\">Grand X</span></h3>"
   ]
  },
  {
   "cell_type": "markdown",
   "metadata": {},
   "source": [
    "Dessiner un grand X, introduire abs()"
   ]
  },
  {
   "cell_type": "code",
   "execution_count": null,
   "metadata": {},
   "outputs": [],
   "source": []
  },
  {
   "cell_type": "markdown",
   "metadata": {},
   "source": [
    "Exercice Vendanges sur france IOI : [vendanges](http://www.france-ioi.org/algo/task.php?idChapter=643&idTask=1884)"
   ]
  },
  {
   "cell_type": "markdown",
   "metadata": {},
   "source": [
    "Exercice Jeux de dames sur france IOI : [Jeux de dames](http://www.france-ioi.org/algo/task.php?idChapter=643&iOrder=15)"
   ]
  }
 ],
 "metadata": {
  "kernelspec": {
   "display_name": "Python 3",
   "language": "python",
   "name": "python3"
  },
  "language_info": {
   "codemirror_mode": {
    "name": "ipython",
    "version": 3
   },
   "file_extension": ".py",
   "mimetype": "text/x-python",
   "name": "python",
   "nbconvert_exporter": "python",
   "pygments_lexer": "ipython3",
   "version": "3.7.3"
  },
  "latex_envs": {
   "LaTeX_envs_menu_present": true,
   "autoclose": false,
   "autocomplete": true,
   "bibliofile": "biblio.bib",
   "cite_by": "apalike",
   "current_citInitial": 1,
   "eqLabelWithNumbers": true,
   "eqNumInitial": 1,
   "hotkeys": {
    "equation": "Ctrl-E",
    "itemize": "Ctrl-I"
   },
   "labels_anchors": false,
   "latex_user_defs": false,
   "report_style_numbering": false,
   "user_envs_cfg": false
  },
  "toc": {
   "base_numbering": 1,
   "nav_menu": {},
   "number_sections": true,
   "sideBar": true,
   "skip_h1_title": false,
   "title_cell": "Table of Contents",
   "title_sidebar": "Contents",
   "toc_cell": false,
   "toc_position": {},
   "toc_section_display": true,
   "toc_window_display": false
  }
 },
 "nbformat": 4,
 "nbformat_minor": 2
}
