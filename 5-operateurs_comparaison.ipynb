{
 "cells": [
  {
   "cell_type": "markdown",
   "metadata": {
    "slideshow": {
     "slide_type": "slide"
    }
   },
   "source": [
    "# Comparaison\n",
    "Effectuons la comparaison de deux nombres entiers à l'aide de l'opérateur \"*est supérieur à*\" :"
   ]
  },
  {
   "cell_type": "code",
   "execution_count": 14,
   "metadata": {
    "slideshow": {
     "slide_type": "-"
    }
   },
   "outputs": [
    {
     "data": {
      "text/plain": [
       "(True, False)"
      ]
     },
     "execution_count": 14,
     "metadata": {},
     "output_type": "execute_result"
    }
   ],
   "source": [
    "4 > 3, 3 > 4"
   ]
  },
  {
   "cell_type": "markdown",
   "metadata": {
    "slideshow": {
     "slide_type": "fragment"
    }
   },
   "source": [
    "- L'expression 4 > 3 est *vraie*, ce qui donne True en anglais.\n",
    "- l'expression 3 > 4 est *fausse*, donc False."
   ]
  },
  {
   "cell_type": "markdown",
   "metadata": {
    "slideshow": {
     "slide_type": "slide"
    }
   },
   "source": [
    "## Type booléen"
   ]
  },
  {
   "cell_type": "markdown",
   "metadata": {
    "slideshow": {
     "slide_type": "fragment"
    }
   },
   "source": [
    "Définition du dictionnaire Larousse :  \n",
    "*Relatif aux théories de George Boole.  \n",
    "Se dit d'une variable susceptible de prendre deux valeurs s'excluant mutuellement, par exemple 0 et 1.*  \n",
    "En langage python, on utilise les valeurs True ou False, et le type est 'bool'."
   ]
  },
  {
   "cell_type": "code",
   "execution_count": 22,
   "metadata": {
    "slideshow": {
     "slide_type": "fragment"
    }
   },
   "outputs": [
    {
     "data": {
      "text/plain": [
       "(bool, bool)"
      ]
     },
     "execution_count": 22,
     "metadata": {},
     "output_type": "execute_result"
    }
   ],
   "source": [
    "type(True), type(False)"
   ]
  },
  {
   "cell_type": "markdown",
   "metadata": {
    "slideshow": {
     "slide_type": "slide"
    }
   },
   "source": [
    "**Remarque :**  \n",
    "on peut caster les booléens. Les nombres entiers et flottants prennent les valeurs 0 pour faux et 1 pour vrai.  \n",
    "Pour les chaînes de caractères le mot est converti en chaînes de caractères."
   ]
  },
  {
   "cell_type": "code",
   "execution_count": 25,
   "metadata": {
    "slideshow": {
     "slide_type": "-"
    }
   },
   "outputs": [
    {
     "data": {
      "text/plain": [
       "(1, 0.0, 'False')"
      ]
     },
     "execution_count": 25,
     "metadata": {},
     "output_type": "execute_result"
    }
   ],
   "source": [
    "int(True), float(False), str(False)"
   ]
  },
  {
   "cell_type": "markdown",
   "metadata": {
    "slideshow": {
     "slide_type": "fragment"
    }
   },
   "source": [
    "On peut aussi caster vers un booléens :"
   ]
  },
  {
   "cell_type": "code",
   "execution_count": 32,
   "metadata": {
    "slideshow": {
     "slide_type": "-"
    }
   },
   "outputs": [
    {
     "data": {
      "text/plain": [
       "(False, True, True, True, True)"
      ]
     },
     "execution_count": 32,
     "metadata": {},
     "output_type": "execute_result"
    }
   ],
   "source": [
    "bool(0), bool(0.0001), bool(True), bool(3), bool(-2.5)"
   ]
  },
  {
   "cell_type": "markdown",
   "metadata": {
    "slideshow": {
     "slide_type": "slide"
    }
   },
   "source": [
    "## Opérateurs de comparaison"
   ]
  },
  {
   "cell_type": "markdown",
   "metadata": {
    "slideshow": {
     "slide_type": "fragment"
    }
   },
   "source": [
    "- < : inférieur  \n",
    "- \\> : supérieur  \n",
    "- <= : inférieur ou égal  \n",
    "- \\>= : supérieur ou égal  \n",
    "- == : est égal  \n",
    "- != : est différent "
   ]
  },
  {
   "cell_type": "markdown",
   "metadata": {
    "slideshow": {
     "slide_type": "slide"
    }
   },
   "source": [
    "On peut comparer directement des entiers et des flottants."
   ]
  },
  {
   "cell_type": "code",
   "execution_count": 55,
   "metadata": {
    "slideshow": {
     "slide_type": "-"
    }
   },
   "outputs": [
    {
     "data": {
      "text/plain": [
       "(True, False)"
      ]
     },
     "execution_count": 55,
     "metadata": {},
     "output_type": "execute_result"
    }
   ],
   "source": [
    "1 >= 1/3, 1.0 != 1"
   ]
  },
  {
   "cell_type": "markdown",
   "metadata": {
    "slideshow": {
     "slide_type": "fragment"
    }
   },
   "source": [
    "On peut aussi comparer des chaînes de caractères."
   ]
  },
  {
   "cell_type": "code",
   "execution_count": 56,
   "metadata": {
    "slideshow": {
     "slide_type": "-"
    }
   },
   "outputs": [
    {
     "data": {
      "text/plain": [
       "(True, True, True, False, True)"
      ]
     },
     "execution_count": 56,
     "metadata": {},
     "output_type": "execute_result"
    }
   ],
   "source": [
    "'a' != 'b', 'a' < 'b', 'A' < 'b', '9' > 'a', 'aaa' < 'abaaa'"
   ]
  },
  {
   "cell_type": "markdown",
   "metadata": {
    "slideshow": {
     "slide_type": "slide"
    }
   },
   "source": [
    "Et, surtout, le plus utile on peut comparer des variables :"
   ]
  },
  {
   "cell_type": "code",
   "execution_count": 2,
   "metadata": {
    "slideshow": {
     "slide_type": "fragment"
    }
   },
   "outputs": [
    {
     "data": {
      "text/plain": [
       "(False, True, True)"
      ]
     },
     "execution_count": 2,
     "metadata": {},
     "output_type": "execute_result"
    }
   ],
   "source": [
    "a = 5\n",
    "b = 3\n",
    "a < b, a != b, a == 5"
   ]
  },
  {
   "cell_type": "markdown",
   "metadata": {
    "slideshow": {
     "slide_type": "fragment"
    }
   },
   "source": [
    "**Remarque :**  \n",
    "Le test d'une égalité est fait avec l'opérateur \"*double égal : ==*\".  \n",
    "Un seul signe égal est l'opérateur d'affectation d'une variable.  \n",
    "Ce choix vient du fait que dans l'écriture d'un programme on affecte plus souvent les variables qu'on les compare."
   ]
  },
  {
   "cell_type": "markdown",
   "metadata": {
    "slideshow": {
     "slide_type": "slide"
    }
   },
   "source": [
    "<table>\n",
    "    <colgroup>\n",
    "        <col style=\"width: 32%\">\n",
    "        <col style=\"width: 68%\">\n",
    "    </colgroup>\n",
    "    <thead>\n",
    "    <tr><th><p>Opération</p></th>\n",
    "    <th><p>Signification</p></th>\n",
    "    </tr>\n",
    "    </thead>\n",
    "    <tbody>\n",
    "    <tr><td><p align=\"center\">&lt;</p></td>\n",
    "    <td><p>strictement inférieur</p></td>\n",
    "    </tr>\n",
    "    <tr><td><p align=\"center\">&lt;=</p></td>\n",
    "    <td><p>inférieur ou égal</p></td>\n",
    "    </tr>\n",
    "    <tr><td><p align=\"center\"><span>&gt;</span></p></td>\n",
    "    <td><p>strictement supérieur</p></td>\n",
    "    </tr>\n",
    "    <tr><td><p align=\"center\"><span>&gt;=</span></p></td>\n",
    "    <td><p>supérieur ou égal</p></td>\n",
    "    </tr>\n",
    "    <tr><td><p align=\"center\"><span>==</span></p></td>\n",
    "    <td><p>égal</p></td>\n",
    "    </tr>\n",
    "    <tr><td><p align=\"center\"><span>!=</span></p></td>\n",
    "    <td><p>différent</p></td>\n",
    "    </tr>\n",
    "    </tbody>\n",
    "</table>"
   ]
  }
 ],
 "metadata": {
  "celltoolbar": "Slideshow",
  "kernelspec": {
   "display_name": "Python 3",
   "language": "python",
   "name": "python3"
  },
  "language_info": {
   "codemirror_mode": {
    "name": "ipython",
    "version": 3
   },
   "file_extension": ".py",
   "mimetype": "text/x-python",
   "name": "python",
   "nbconvert_exporter": "python",
   "pygments_lexer": "ipython3",
   "version": "3.7.3"
  },
  "latex_envs": {
   "LaTeX_envs_menu_present": true,
   "autoclose": false,
   "autocomplete": true,
   "bibliofile": "biblio.bib",
   "cite_by": "apalike",
   "current_citInitial": 1,
   "eqLabelWithNumbers": true,
   "eqNumInitial": 1,
   "hotkeys": {
    "equation": "Ctrl-E",
    "itemize": "Ctrl-I"
   },
   "labels_anchors": false,
   "latex_user_defs": false,
   "report_style_numbering": false,
   "user_envs_cfg": false
  }
 },
 "nbformat": 4,
 "nbformat_minor": 2
}
