{
 "cells": [
  {
   "cell_type": "markdown",
   "metadata": {},
   "source": [
    "# Répétition"
   ]
  },
  {
   "cell_type": "markdown",
   "metadata": {},
   "source": [
    "Pour répéter une ou plusieurs instructions on peut utiliser une structure de contrôle : la boucle \"pour\", **for** en anglais et en python."
   ]
  },
  {
   "cell_type": "markdown",
   "metadata": {},
   "source": [
    "*for r in range(n):* peut se lire en français :  \n",
    "*\" pour chaque valeur de l'ensemble de 0 à n exclu, soit de 0 à n-1, stocker la valeur dans la variable **r** et effectuer les instructions qui suivront \"*."
   ]
  },
  {
   "cell_type": "code",
   "execution_count": 1,
   "metadata": {},
   "outputs": [
    {
     "name": "stdout",
     "output_type": "stream",
     "text": [
      "Répétition\n",
      "Répétition\n",
      "Répétition\n",
      "fin\n"
     ]
    }
   ],
   "source": [
    "for r in range(3):\n",
    "    print('Répétition')\n",
    "print('fin')"
   ]
  },
  {
   "cell_type": "markdown",
   "metadata": {},
   "source": [
    "Pour séparer les blocs d'instructions, on utilise l'**indentation** constitué de **4 espaces**.   \n",
    "Comme on peut le voir la fonction *print('Répétition')* est indentée elle est donc répétées alors que la fonction *print('fin')* ne l'est pas.\n",
    "![bloc instruction](fichiers_sources/bloc_instruction_1.png)"
   ]
  },
  {
   "cell_type": "markdown",
   "metadata": {},
   "source": [
    "Cette répétition va utiliser la variable nommée c comme compteur, on peut voir les valeurs successives contenues dans c :"
   ]
  },
  {
   "cell_type": "code",
   "execution_count": null,
   "metadata": {},
   "outputs": [],
   "source": [
    "for c in range(3):\n",
    "    print('c :', c)"
   ]
  },
  {
   "cell_type": "markdown",
   "metadata": {},
   "source": [
    "On peut répéter en fonction d'une variable :"
   ]
  },
  {
   "cell_type": "code",
   "execution_count": null,
   "metadata": {},
   "outputs": [],
   "source": [
    "nbre_repetition = 10\n",
    "for h in range(nbre_repetition):\n",
    "    print(h, end=\", \")"
   ]
  },
  {
   "cell_type": "markdown",
   "metadata": {},
   "source": [
    "## range()\n",
    "La fonction range(n) permet de compter de 0 à n-1, mais elle accepte aussi d'autres paramêtres, sa forme général est, *range(début, fin_exclue, pas)*"
   ]
  },
  {
   "cell_type": "code",
   "execution_count": null,
   "metadata": {
    "scrolled": true
   },
   "outputs": [],
   "source": [
    "for e in range(2, 11, 3):\n",
    "    print('e :', e)"
   ]
  },
  {
   "cell_type": "code",
   "execution_count": null,
   "metadata": {
    "scrolled": true
   },
   "outputs": [],
   "source": [
    "for e in range(11, 2, -4):\n",
    "    print('e :', e)"
   ]
  },
  {
   "cell_type": "code",
   "execution_count": null,
   "metadata": {},
   "outputs": [],
   "source": []
  },
  {
   "cell_type": "markdown",
   "metadata": {},
   "source": [
    "## Boucles imbriquées\n",
    "On peut imbriquer les blocs d'instructions grâce à **l'indentation** et demander de parcourir plusieurs boucles :\n",
    "![bloc instruction](fichiers_sources/bloc_instruction_2.png)"
   ]
  },
  {
   "cell_type": "code",
   "execution_count": null,
   "metadata": {},
   "outputs": [],
   "source": [
    "for a in range(3):\n",
    "    print(a, \":\", end=\" \")\n",
    "    for b in range(5):\n",
    "        print((a+1) * b, end=\" \")\n",
    "    print() # pour le retour à la ligne"
   ]
  },
  {
   "cell_type": "markdown",
   "metadata": {},
   "source": [
    "## break\n",
    "On peut stopper l'exécution d'un boucle à l'aide de la commande **break**."
   ]
  },
  {
   "cell_type": "code",
   "execution_count": null,
   "metadata": {},
   "outputs": [],
   "source": [
    "for c in range(2000):\n",
    "    print(c)\n",
    "    break"
   ]
  },
  {
   "cell_type": "code",
   "execution_count": null,
   "metadata": {},
   "outputs": [],
   "source": [
    "for a in range(3):\n",
    "    print(a, \":\", end=\" \")\n",
    "    for b in range(5):\n",
    "        print((a+1) * b, end=\" \")\n",
    "        break\n",
    "    print()"
   ]
  },
  {
   "cell_type": "code",
   "execution_count": null,
   "metadata": {},
   "outputs": [],
   "source": []
  }
 ],
 "metadata": {
  "kernelspec": {
   "display_name": "Python 3",
   "language": "python",
   "name": "python3"
  },
  "language_info": {
   "codemirror_mode": {
    "name": "ipython",
    "version": 3
   },
   "file_extension": ".py",
   "mimetype": "text/x-python",
   "name": "python",
   "nbconvert_exporter": "python",
   "pygments_lexer": "ipython3",
   "version": "3.7.3"
  },
  "latex_envs": {
   "LaTeX_envs_menu_present": true,
   "autoclose": false,
   "autocomplete": true,
   "bibliofile": "biblio.bib",
   "cite_by": "apalike",
   "current_citInitial": 1,
   "eqLabelWithNumbers": true,
   "eqNumInitial": 1,
   "hotkeys": {
    "equation": "Ctrl-E",
    "itemize": "Ctrl-I"
   },
   "labels_anchors": false,
   "latex_user_defs": false,
   "report_style_numbering": false,
   "user_envs_cfg": false
  },
  "toc": {
   "base_numbering": 1,
   "nav_menu": {},
   "number_sections": true,
   "sideBar": true,
   "skip_h1_title": false,
   "title_cell": "Table of Contents",
   "title_sidebar": "Contents",
   "toc_cell": false,
   "toc_position": {},
   "toc_section_display": true,
   "toc_window_display": false
  }
 },
 "nbformat": 4,
 "nbformat_minor": 2
}
