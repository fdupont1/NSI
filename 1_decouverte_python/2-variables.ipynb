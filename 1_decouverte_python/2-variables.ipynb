{
 "cells": [
  {
   "cell_type": "markdown",
   "metadata": {},
   "source": [
    "# Variables\n"
   ]
  },
  {
   "cell_type": "markdown",
   "metadata": {},
   "source": [
    "## 1. Affectation ou assignation\n",
    "L'affectation est l'opération qui permet de lier le nom de la variable avec son contenu, le nom de la variable permet de déterminer une adresse dans la mémoire qui va permettre de retrouver la valeur binaire qui y est contenu.  \n",
    "En python, comme dans la plupart des langages, l'opérateur d'affectation est le signe : **=**."
   ]
  },
  {
   "cell_type": "code",
   "execution_count": 1,
   "metadata": {},
   "outputs": [
    {
     "data": {
      "text/plain": [
       "(1, 2.6666666666666665, 'Message texte')"
      ]
     },
     "execution_count": 1,
     "metadata": {},
     "output_type": "execute_result"
    }
   ],
   "source": [
    "a = 1\n",
    "b = 8/3\n",
    "c = 'Message texte'\n",
    "a , b , c"
   ]
  },
  {
   "cell_type": "markdown",
   "metadata": {},
   "source": [
    "### Affectation multiples\n",
    "On peut affecter la même valeur à plusieurs variables :"
   ]
  },
  {
   "cell_type": "code",
   "execution_count": 1,
   "metadata": {},
   "outputs": [
    {
     "data": {
      "text/plain": [
       "(10, 10)"
      ]
     },
     "execution_count": 1,
     "metadata": {},
     "output_type": "execute_result"
    }
   ],
   "source": [
    "t1 = t2 = 10\n",
    "t1 , t2"
   ]
  },
  {
   "cell_type": "markdown",
   "metadata": {},
   "source": [
    "### Affectation parallèles\n",
    "Il est possible d'affecter plusieurs variables en une seule ligne :"
   ]
  },
  {
   "cell_type": "code",
   "execution_count": 3,
   "metadata": {},
   "outputs": [
    {
     "data": {
      "text/plain": [
       "(-5, 3.5, 'du texte')"
      ]
     },
     "execution_count": 3,
     "metadata": {},
     "output_type": "execute_result"
    }
   ],
   "source": [
    "d, e, f = -5, 7/2, \"du texte\"\n",
    "d ,e ,f"
   ]
  },
  {
   "cell_type": "markdown",
   "metadata": {},
   "source": [
    "## 2. Nom de variable\n",
    "Afin de faciliter la lecture du code, nous allons adopter la règle suivante pour le choix du nom de nos variables :\n",
    "- on emploi que des lettres minuscules, sans accents ni cédilles (a->z),  et des chiffres (0->9).\n",
    "- on sépare les mots par de '**_**' (*underscore*)\n",
    "- le nom de la variable doit être le plus explicite possible et bien refléter ce qu'est la valeur de son contenu.  \n",
    "\n",
    "**Exemple :** Pour un programme qui traite des données de températures, en degré Celsius, à l'intérieure et à l'extérieure d'un batiment, on peut choisir les noms '*temperature_interieure*', '*temp_int*', '*interieur_celsius*'"
   ]
  },
  {
   "cell_type": "code",
   "execution_count": 4,
   "metadata": {},
   "outputs": [
    {
     "data": {
      "text/plain": [
       "(19, 3)"
      ]
     },
     "execution_count": 4,
     "metadata": {},
     "output_type": "execute_result"
    }
   ],
   "source": [
    "temperature_interieure = 19\n",
    "temperature_exterieure = 3\n",
    "temperature_interieure , temperature_exterieure"
   ]
  },
  {
   "cell_type": "markdown",
   "metadata": {},
   "source": [
    "**Restriction :** Python possède des mots-clés quin ne doivent pas être employés comme nom de variables.\n",
    "Voir : [Mots-clés de python](https://docs.python.org/fr/3/reference/lexical_analysis.html#keywords \"Mots-clés python\")"
   ]
  },
  {
   "cell_type": "markdown",
   "metadata": {},
   "source": [
    "## 3. Opérations"
   ]
  },
  {
   "cell_type": "markdown",
   "metadata": {},
   "source": [
    "- On peut utiliser les opérateurs pour calculer des expressions :"
   ]
  },
  {
   "cell_type": "code",
   "execution_count": 5,
   "metadata": {},
   "outputs": [
    {
     "data": {
      "text/plain": [
       "(15, 125, 1, 8.333333333333334)"
      ]
     },
     "execution_count": 5,
     "metadata": {},
     "output_type": "execute_result"
    }
   ],
   "source": [
    "x, y = 5 , 3\n",
    "x*y , x**y , x//y , x**y/(y*x)"
   ]
  },
  {
   "cell_type": "markdown",
   "metadata": {},
   "source": [
    "- on peut affecter à une variable le résultat du calcul d'une expression :"
   ]
  },
  {
   "cell_type": "code",
   "execution_count": 6,
   "metadata": {},
   "outputs": [
    {
     "data": {
      "text/plain": [
       "(80, 240)"
      ]
     },
     "execution_count": 6,
     "metadata": {},
     "output_type": "execute_result"
    }
   ],
   "source": [
    "longueur, largeur, hauteur = 10, 8, 3\n",
    "surface = longueur * largeur\n",
    "volume = surface * hauteur\n",
    "surface, volume"
   ]
  },
  {
   "cell_type": "markdown",
   "metadata": {},
   "source": [
    "- on peut affectée une variable avec une expression la contenant :  \n",
    "\n",
    "au début de la séquence la variable nommée x contient la valeur 2, puis la nouvelle valeur de la variable x est calculée à partir de l'ancienne valeur additionner de 1 et élevée au carré."
   ]
  },
  {
   "cell_type": "code",
   "execution_count": 7,
   "metadata": {},
   "outputs": [
    {
     "data": {
      "text/plain": [
       "9"
      ]
     },
     "execution_count": 7,
     "metadata": {},
     "output_type": "execute_result"
    }
   ],
   "source": [
    "x = 2\n",
    "x = (x+1)**2\n",
    "x"
   ]
  },
  {
   "cell_type": "markdown",
   "metadata": {},
   "source": [
    "Bien que l'expression '*x = (x+1)**2*' soit inacceptable en mathématique, elle est valide en informatique du fait du changement sur l'opération effectuée par le signe = qui est une affectation en informatique et non une relation d'égalité."
   ]
  },
  {
   "cell_type": "markdown",
   "metadata": {},
   "source": [
    "### Limitations\n",
    "On ne peut placer qu'un nom de variable à gauche du signe égal (**=**), car seule une variable peut-être affectée.\n"
   ]
  },
  {
   "cell_type": "code",
   "execution_count": 8,
   "metadata": {},
   "outputs": [
    {
     "ename": "SyntaxError",
     "evalue": "can't assign to operator (<ipython-input-8-c2b580777036>, line 2)",
     "output_type": "error",
     "traceback": [
      "\u001b[0;36m  File \u001b[0;32m\"<ipython-input-8-c2b580777036>\"\u001b[0;36m, line \u001b[0;32m2\u001b[0m\n\u001b[0;31m    h + 1 = i\u001b[0m\n\u001b[0m             ^\u001b[0m\n\u001b[0;31mSyntaxError\u001b[0m\u001b[0;31m:\u001b[0m can't assign to operator\n"
     ]
    }
   ],
   "source": [
    "h = 1\n",
    "h + 1 = i"
   ]
  },
  {
   "cell_type": "markdown",
   "metadata": {},
   "source": [
    "## 4. Incrémentation\n",
    "Ajouter une valeur fixée à une variable. Exemple : pour incrémenter les jours de congés il faut ajouter 2,5 chaque mois."
   ]
  },
  {
   "cell_type": "code",
   "execution_count": 9,
   "metadata": {},
   "outputs": [
    {
     "data": {
      "text/plain": [
       "7.5"
      ]
     },
     "execution_count": 9,
     "metadata": {},
     "output_type": "execute_result"
    }
   ],
   "source": [
    "nbre_jours_conges = 5\n",
    "nbre_jours_conges = nbre_jours_conges + 2.5\n",
    "nbre_jours_conges"
   ]
  },
  {
   "cell_type": "markdown",
   "metadata": {},
   "source": [
    "En langage python, on peut simplifier l'écriture **x = x+1** en **x += 1**.  \n",
    "En langage C, il existe aussi une simplification équivallente : **x++**"
   ]
  },
  {
   "cell_type": "code",
   "execution_count": 10,
   "metadata": {},
   "outputs": [
    {
     "data": {
      "text/plain": [
       "7.5"
      ]
     },
     "execution_count": 10,
     "metadata": {},
     "output_type": "execute_result"
    }
   ],
   "source": [
    "nbre_jours_conges = 5\n",
    "nbre_jours_conges += 2.5\n",
    "nbre_jours_conges"
   ]
  },
  {
   "cell_type": "markdown",
   "metadata": {},
   "source": [
    "On peut utiliser cette simplification avec tous les opérateurs :"
   ]
  },
  {
   "cell_type": "code",
   "execution_count": 11,
   "metadata": {},
   "outputs": [
    {
     "data": {
      "text/plain": [
       "(14, 9, 20, 2.5, 5, 0, 100)"
      ]
     },
     "execution_count": 11,
     "metadata": {},
     "output_type": "execute_result"
    }
   ],
   "source": [
    "a = b = c = d = e = f = g = 10\n",
    "a += 4     # a = a + 4\n",
    "b -= 1     # b = b - 1\n",
    "c *= 2     # c = c * 2\n",
    "d /= 4     # d = d / 4\n",
    "e //= 2    # e = e // 2\n",
    "f %= 2     # f = f % 2\n",
    "g **= 2    # g = g ** 2\n",
    "a , b , c , d, e, f, g"
   ]
  },
  {
   "cell_type": "markdown",
   "metadata": {},
   "source": [
    "## 5. Echange de valeurs\n",
    "On souhaite échanger les valeurs des variables x et y."
   ]
  },
  {
   "cell_type": "code",
   "execution_count": 12,
   "metadata": {},
   "outputs": [
    {
     "data": {
      "text/plain": [
       "(2, 2)"
      ]
     },
     "execution_count": 12,
     "metadata": {},
     "output_type": "execute_result"
    }
   ],
   "source": [
    "x, y = 1, 2\n",
    "x = y\n",
    "y = x\n",
    "x,y"
   ]
  },
  {
   "cell_type": "markdown",
   "metadata": {},
   "source": [
    "Le résultat n'est pas celui attendu. Si nous prenons le programme ligne après ligne :\n",
    "- **x, y = 1, 2** : x prend comme valeur 1 et y la valeur 2\n",
    "- **x = y** : x prend la valeur contenu dans y soit 2\n",
    "- **y = x** : y prend la valeur contenu dans x soit 2 puisque x à changer de valeur à la ligne précédente"
   ]
  },
  {
   "cell_type": "markdown",
   "metadata": {},
   "source": [
    "La solution consiste à mémoriser temporairement le contenu de la variable x dans une autre variable :"
   ]
  },
  {
   "cell_type": "code",
   "execution_count": 13,
   "metadata": {},
   "outputs": [
    {
     "data": {
      "text/plain": [
       "(2, 1)"
      ]
     },
     "execution_count": 13,
     "metadata": {},
     "output_type": "execute_result"
    }
   ],
   "source": [
    "x, y = 1, 2\n",
    "temporaire = x\n",
    "x = y\n",
    "y = temporaire\n",
    "x,y"
   ]
  },
  {
   "cell_type": "markdown",
   "metadata": {},
   "source": [
    "Python se charge de gérer cette situation pour nous, si nous écrivons l'échange en une seul ligne :"
   ]
  },
  {
   "cell_type": "code",
   "execution_count": 14,
   "metadata": {},
   "outputs": [
    {
     "data": {
      "text/plain": [
       "(2, 1)"
      ]
     },
     "execution_count": 14,
     "metadata": {},
     "output_type": "execute_result"
    }
   ],
   "source": [
    "x, y = 1, 2\n",
    "x , y = y , x\n",
    "x , y"
   ]
  },
  {
   "cell_type": "markdown",
   "metadata": {},
   "source": [
    "## 6. Destruction\n",
    "On peut détruire une variable à l'aide de la commande del, qe qui permet de libérer son espace mémoire mais son appel génère une erreur.  \n",
    "En pratique nous n'aurons pas souvent besoin de gérer la destruction d'un variable car le langage se charge en bonne partie de cette tâche.\n"
   ]
  },
  {
   "cell_type": "code",
   "execution_count": 1,
   "metadata": {},
   "outputs": [
    {
     "name": "stdout",
     "output_type": "stream",
     "text": [
      "5\n"
     ]
    },
    {
     "ename": "NameError",
     "evalue": "name 'a' is not defined",
     "output_type": "error",
     "traceback": [
      "\u001b[0;31m---------------------------------------------------------------------------\u001b[0m",
      "\u001b[0;31mNameError\u001b[0m                                 Traceback (most recent call last)",
      "\u001b[0;32m<ipython-input-1-f9f483cbd823>\u001b[0m in \u001b[0;36m<module>\u001b[0;34m\u001b[0m\n\u001b[1;32m      2\u001b[0m \u001b[0mprint\u001b[0m\u001b[0;34m(\u001b[0m\u001b[0ma\u001b[0m\u001b[0;34m)\u001b[0m\u001b[0;34m\u001b[0m\u001b[0;34m\u001b[0m\u001b[0m\n\u001b[1;32m      3\u001b[0m \u001b[0;32mdel\u001b[0m \u001b[0ma\u001b[0m\u001b[0;34m\u001b[0m\u001b[0;34m\u001b[0m\u001b[0m\n\u001b[0;32m----> 4\u001b[0;31m \u001b[0mprint\u001b[0m\u001b[0;34m(\u001b[0m\u001b[0ma\u001b[0m\u001b[0;34m)\u001b[0m\u001b[0;34m\u001b[0m\u001b[0;34m\u001b[0m\u001b[0m\n\u001b[0m",
      "\u001b[0;31mNameError\u001b[0m: name 'a' is not defined"
     ]
    }
   ],
   "source": [
    "a = 5\n",
    "print(a)\n",
    "del a\n",
    "print(a)"
   ]
  }
 ],
 "metadata": {
  "kernelspec": {
   "display_name": "Python 3",
   "language": "python",
   "name": "python3"
  },
  "language_info": {
   "codemirror_mode": {
    "name": "ipython",
    "version": 3
   },
   "file_extension": ".py",
   "mimetype": "text/x-python",
   "name": "python",
   "nbconvert_exporter": "python",
   "pygments_lexer": "ipython3",
   "version": "3.7.3"
  },
  "latex_envs": {
   "LaTeX_envs_menu_present": true,
   "autoclose": false,
   "autocomplete": true,
   "bibliofile": "biblio.bib",
   "cite_by": "apalike",
   "current_citInitial": 1,
   "eqLabelWithNumbers": true,
   "eqNumInitial": 1,
   "hotkeys": {
    "equation": "Ctrl-E",
    "itemize": "Ctrl-I"
   },
   "labels_anchors": false,
   "latex_user_defs": false,
   "report_style_numbering": false,
   "user_envs_cfg": false
  }
 },
 "nbformat": 4,
 "nbformat_minor": 2
}
