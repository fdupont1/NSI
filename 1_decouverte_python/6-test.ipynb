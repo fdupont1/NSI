{
 "cells": [
  {
   "cell_type": "markdown",
   "metadata": {
    "slideshow": {
     "slide_type": "slide"
    }
   },
   "source": [
    "# Les tests"
   ]
  },
  {
   "cell_type": "markdown",
   "metadata": {
    "slideshow": {
     "slide_type": "fragment"
    }
   },
   "source": [
    "En programmation on a souvent besoin de faire une ou des actions en fonction de certaines conditions."
   ]
  },
  {
   "cell_type": "markdown",
   "metadata": {
    "slideshow": {
     "slide_type": "slide"
    }
   },
   "source": [
    "## Commande if"
   ]
  },
  {
   "cell_type": "markdown",
   "metadata": {
    "slideshow": {
     "slide_type": "fragment"
    }
   },
   "source": [
    "Par exemple, pour afficher l'état de l'eau en fonction de la température :  \n",
    "afficher la chaîne de caractères \"*état gazeux*\" **si** la température est supérieure à 100°C."
   ]
  },
  {
   "cell_type": "code",
   "execution_count": 4,
   "metadata": {
    "slideshow": {
     "slide_type": "fragment"
    }
   },
   "outputs": [
    {
     "name": "stdout",
     "output_type": "stream",
     "text": [
      "température de l'eau ? : 120\n",
      "L'eau est à l'état gazeux\n"
     ]
    }
   ],
   "source": [
    "temperature = int(input(\"température de l'eau ? : \"))\n",
    "if temperature > 100:\n",
    "    print(\"L'eau est à l'état gazeux\")"
   ]
  },
  {
   "cell_type": "code",
   "execution_count": 5,
   "metadata": {
    "slideshow": {
     "slide_type": "fragment"
    }
   },
   "outputs": [
    {
     "name": "stdout",
     "output_type": "stream",
     "text": [
      "température de l'eau ? : 80\n",
      "Fin\n"
     ]
    }
   ],
   "source": [
    "temperature = int(input(\"température de l'eau ? : \"))\n",
    "if temperature > 100:\n",
    "    print(\"L'eau est à l'état gazeux\")\n",
    "print(\"Fin\")"
   ]
  },
  {
   "cell_type": "markdown",
   "metadata": {
    "slideshow": {
     "slide_type": "slide"
    }
   },
   "source": [
    "La commande *if* fonctionne de la manière suivante :\n",
    "- elle évalue la comparaison *temperature > 100*  \n",
    "- si la comparaison est vraie (True) on effectue le bloc d'instruction indenté (*print(\"L'eau est à l'état gazeux\")*), puis le reste du programme\n",
    "- si elle est fausse (False), il continue l'execution en interprétant le ligne non identé suivante"
   ]
  },
  {
   "cell_type": "markdown",
   "metadata": {
    "slideshow": {
     "slide_type": "fragment"
    }
   },
   "source": [
    "Représentation :\n",
    "![Si](fichiers_sources/Si.jpg)"
   ]
  },
  {
   "cell_type": "markdown",
   "metadata": {
    "slideshow": {
     "slide_type": "slide"
    }
   },
   "source": [
    "On peut aussi directement utiliser un booléen :"
   ]
  },
  {
   "cell_type": "code",
   "execution_count": 1,
   "metadata": {
    "slideshow": {
     "slide_type": "fragment"
    }
   },
   "outputs": [
    {
     "name": "stdout",
     "output_type": "stream",
     "text": [
      "passe par là\n"
     ]
    }
   ],
   "source": [
    "variable_bool = True\n",
    "if variable_bool :\n",
    "    print('passe par là')"
   ]
  },
  {
   "cell_type": "markdown",
   "metadata": {
    "slideshow": {
     "slide_type": "slide"
    }
   },
   "source": [
    "## Sinon"
   ]
  },
  {
   "cell_type": "markdown",
   "metadata": {
    "slideshow": {
     "slide_type": "fragment"
    }
   },
   "source": [
    "Si on souhaite effectuer une action A si la condition est vraie et une action B si elle est fausse, et poursuivre le programme, on utilise la commande *else:*, \"*sinon*\" en français.\n"
   ]
  },
  {
   "cell_type": "markdown",
   "metadata": {
    "slideshow": {
     "slide_type": "fragment"
    }
   },
   "source": [
    "Représentation :\n",
    "![SiSinon](fichiers_sources/SiSinon.jpg)"
   ]
  },
  {
   "cell_type": "markdown",
   "metadata": {
    "slideshow": {
     "slide_type": "slide"
    }
   },
   "source": [
    "Par exemple, pour afficher l'état de l'eau en fonction de la température :  \n",
    "- afficher la chaîne de caractères \"état gazeux\" si la température est supérieure à 100°C.\n",
    "- sinon afficher \"état liquide\""
   ]
  },
  {
   "cell_type": "code",
   "execution_count": 3,
   "metadata": {
    "slideshow": {
     "slide_type": "fragment"
    }
   },
   "outputs": [
    {
     "name": "stdout",
     "output_type": "stream",
     "text": [
      "température de l'eau ? : 50\n",
      "L'eau est à l'état liquide\n"
     ]
    }
   ],
   "source": [
    "temperature = int(input(\"température de l'eau ? : \"))\n",
    "if temperature > 100:\n",
    "    print(\"L'eau est à l'état gazeux\")\n",
    "else:\n",
    "    print(\"L'eau est à l'état liquide\")"
   ]
  }
 ],
 "metadata": {
  "celltoolbar": "Slideshow",
  "kernelspec": {
   "display_name": "Python 3",
   "language": "python",
   "name": "python3"
  },
  "language_info": {
   "codemirror_mode": {
    "name": "ipython",
    "version": 3
   },
   "file_extension": ".py",
   "mimetype": "text/x-python",
   "name": "python",
   "nbconvert_exporter": "python",
   "pygments_lexer": "ipython3",
   "version": "3.7.3"
  }
 },
 "nbformat": 4,
 "nbformat_minor": 2
}
